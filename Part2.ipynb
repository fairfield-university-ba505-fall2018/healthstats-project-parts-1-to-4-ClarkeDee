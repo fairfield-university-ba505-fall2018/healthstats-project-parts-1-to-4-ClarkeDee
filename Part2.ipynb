{
 "cells": [
  {
   "cell_type": "markdown",
   "metadata": {},
   "source": [
    "# Health Stats Part 2: Dictionaries"
   ]
  },
  {
   "cell_type": "markdown",
   "metadata": {},
   "source": [
    "<!--- Paste in your explanation of Waist-to-Hip ratios from Part 1. --->\n",
    "EDIT THIS MARKDOWN CELL"
   ]
  },
  {
   "cell_type": "markdown",
   "metadata": {},
   "source": [
    "## Source Data "
   ]
  },
  {
   "cell_type": "markdown",
   "metadata": {},
   "source": [
    "<!--- Paste in your data definitions from Part 1. Then Try to organize them into a table in Markdown. --->\n",
    "EDIT THIS MARKDOWN CELL"
   ]
  },
  {
   "cell_type": "markdown",
   "metadata": {},
   "source": [
    "## Data Import"
   ]
  },
  {
   "cell_type": "code",
   "execution_count": 1,
   "metadata": {},
   "outputs": [],
   "source": [
    "# Goal: Extract the data from the file\n",
    "\n",
    "# opens the w2h_data.csv for reading\n",
    "f = open(\"w2h_data.csv\", \"r\")\n",
    "\n",
    "# loads the file into a list of strings, one string per line\n",
    "raw_lines = list(f)\n",
    "\n",
    "# closes the file\n",
    "f.close()"
   ]
  },
  {
   "cell_type": "code",
   "execution_count": 13,
   "metadata": {
    "collapsed": true
   },
   "outputs": [
    {
     "data": {
      "text/plain": [
       "[['ID', 'Waist', 'Hip', 'Gender'],\n",
       " {'ID': 1, 'Waist': 30, 'Hip': 32, 'Gender': 'M'},\n",
       " {'ID': 2, 'Waist': 32, 'Hip': 37, 'Gender': 'M'},\n",
       " {'ID': 3, 'Waist': 30, 'Hip': 36, 'Gender': 'M'},\n",
       " {'ID': 4, 'Waist': 33, 'Hip': 39, 'Gender': 'M'},\n",
       " {'ID': 5, 'Waist': 29, 'Hip': 33, 'Gender': 'M'},\n",
       " {'ID': 6, 'Waist': 32, 'Hip': 38, 'Gender': 'M'},\n",
       " {'ID': 7, 'Waist': 33, 'Hip': 42, 'Gender': 'M'},\n",
       " {'ID': 8, 'Waist': 30, 'Hip': 40, 'Gender': 'M'},\n",
       " {'ID': 9, 'Waist': 30, 'Hip': 37, 'Gender': 'M'},\n",
       " {'ID': 10, 'Waist': 32, 'Hip': 39, 'Gender': 'M'},\n",
       " {'ID': 11, 'Waist': 24, 'Hip': 35, 'Gender': 'F'},\n",
       " {'ID': 12, 'Waist': 25, 'Hip': 37, 'Gender': 'F'},\n",
       " {'ID': 13, 'Waist': 24, 'Hip': 37, 'Gender': 'F'},\n",
       " {'ID': 14, 'Waist': 22, 'Hip': 34, 'Gender': 'F'},\n",
       " {'ID': 15, 'Waist': 26, 'Hip': 38, 'Gender': 'F'},\n",
       " {'ID': 16, 'Waist': 26, 'Hip': 37, 'Gender': 'F'},\n",
       " {'ID': 17, 'Waist': 25, 'Hip': 38, 'Gender': 'F'},\n",
       " {'ID': 18, 'Waist': 26, 'Hip': 37, 'Gender': 'F'},\n",
       " {'ID': 19, 'Waist': 28, 'Hip': 40, 'Gender': 'F'},\n",
       " {'ID': 20, 'Waist': 23, 'Hip': 35, 'Gender': 'F'}]"
      ]
     },
     "execution_count": 13,
     "metadata": {},
     "output_type": "execute_result"
    }
   ],
   "source": [
    "# Goal: Scrub and convert the data, loading it into a new list called rows\n",
    "\n",
    "# Strips out newline '\\n' characters and converts to a list\n",
    "raw_rows = [r.rstrip('\\n').split(',') for r in raw_lines] # <--- Whoa. Why does this work? \n",
    "\n",
    "# Creates a new list, starting with just the column names\n",
    "rows = list() \n",
    "rows.append(raw_rows[0]);\n",
    "\n",
    "# Convert each row_row, starting with the second\n",
    "columns = ['ID','Waist','Hip','Gender']\n",
    "\n",
    "for raw_row in raw_rows[1:]:\n",
    "    \n",
    "    # Note: the values in the raw_row list are all strings.\n",
    "    # Create a new list called row that converts each item in raw_row to the right data type  \n",
    "    row = [int(raw_row[0]),int(raw_row[1]),int(raw_row[2]),raw_row[3]]\n",
    "    record= dict(zip(columns,row))\n",
    "    \n",
    "    # Append the new row to the rows list\n",
    "    rows.append(record)\n",
    "    \n",
    "# from here on out use the rows list instead of raw_rows or raw_lines\n",
    "rows"
   ]
  },
  {
   "cell_type": "markdown",
   "metadata": {},
   "source": [
    "## Calculations"
   ]
  },
  {
   "cell_type": "code",
   "execution_count": 27,
   "metadata": {
    "collapsed": true
   },
   "outputs": [
    {
     "ename": "TypeError",
     "evalue": "list indices must be integers or slices, not str",
     "output_type": "error",
     "traceback": [
      "\u001b[0;31m---------------------------------------------------------------------------\u001b[0m",
      "\u001b[0;31mTypeError\u001b[0m                                 Traceback (most recent call last)",
      "\u001b[0;32m<ipython-input-27-af267b82afd6>\u001b[0m in \u001b[0;36m<module>\u001b[0;34m()\u001b[0m\n\u001b[1;32m      5\u001b[0m \u001b[0;32mfor\u001b[0m \u001b[0mrow\u001b[0m \u001b[0;32min\u001b[0m \u001b[0mrows\u001b[0m\u001b[0;34m:\u001b[0m\u001b[0;34m\u001b[0m\u001b[0m\n\u001b[1;32m      6\u001b[0m     \u001b[0;31m# Calculate the w2h_ratio\u001b[0m\u001b[0;34m\u001b[0m\u001b[0;34m\u001b[0m\u001b[0m\n\u001b[0;32m----> 7\u001b[0;31m     \u001b[0mw2h_ratio\u001b[0m \u001b[0;34m=\u001b[0m \u001b[0mrow\u001b[0m\u001b[0;34m[\u001b[0m\u001b[0;34m'Waist'\u001b[0m\u001b[0;34m]\u001b[0m\u001b[0;34m/\u001b[0m\u001b[0mrow\u001b[0m\u001b[0;34m[\u001b[0m\u001b[0;34m'Hip'\u001b[0m\u001b[0;34m]\u001b[0m\u001b[0;34m\u001b[0m\u001b[0m\n\u001b[0m\u001b[1;32m      8\u001b[0m \u001b[0;34m\u001b[0m\u001b[0m\n\u001b[1;32m      9\u001b[0m     \u001b[0;31m# Based on the ratio and the gender, set the variable shape to either 'apple' or 'pear'\u001b[0m\u001b[0;34m\u001b[0m\u001b[0;34m\u001b[0m\u001b[0m\n",
      "\u001b[0;31mTypeError\u001b[0m: list indices must be integers or slices, not str"
     ]
    }
   ],
   "source": [
    "# Goal: For each row of data calculate and store the w2h_ratio and shape.\n",
    "\n",
    "\n",
    "# For each row in the rows list, calculate the waist to hips ratio and shape\n",
    "for row in rows:\n",
    "    # Calculate the w2h_ratio \n",
    "    w2h_ratio = row['Waist']/row['Hip']\n",
    "    \n",
    "    # Based on the ratio and the gender, set the variable shape to either 'apple' or 'pear'\n",
    "    if ((row['Gender']=='M' and w2h_ratio > 0.9) or (row['Gender'] == 'F' and w2h_ratio > 0.8)) :\n",
    "        shape = \"Apple\"\n",
    "    else:\n",
    "        shape = \"Pear\"\n",
    "    \n",
    "    # Add the new data to the end of the row\n",
    "    row += [w2h_ratio, shape]# note: += is shorthand for the extend method used above \n",
    "    row['w2h_ratio']= w2h_ratio\n",
    "    row ['Shape']= shape\n",
    "rows"
   ]
  },
  {
   "cell_type": "markdown",
   "metadata": {},
   "source": [
    "## Output"
   ]
  },
  {
   "cell_type": "code",
   "execution_count": 24,
   "metadata": {},
   "outputs": [
    {
     "data": {
      "text/html": [
       "<table><tr><th>ID</th><th>Waist</th><th>Hip</th><th>Gender</th><th>W2H Ratio</th><th>Shape</th><th>W2H Ratio</th><th>Shape</th><th>W2H Ratio</th><th>Shape</th><th>W2H Ratio</th><th>Shape</th><th>W2H Ratio</th><th>Shape</th><th>W2H Ratio</th><th>Shape</th></tr><tr><td>ID</td><td>Waist</td><td>Hip</td><td>Gender</td></tr><tr><td>ID</td><td>Waist</td><td>Hip</td><td>Gender</td></tr><tr><td>ID</td><td>Waist</td><td>Hip</td><td>Gender</td></tr><tr><td>ID</td><td>Waist</td><td>Hip</td><td>Gender</td></tr><tr><td>ID</td><td>Waist</td><td>Hip</td><td>Gender</td></tr><tr><td>ID</td><td>Waist</td><td>Hip</td><td>Gender</td></tr><tr><td>ID</td><td>Waist</td><td>Hip</td><td>Gender</td></tr><tr><td>ID</td><td>Waist</td><td>Hip</td><td>Gender</td></tr><tr><td>ID</td><td>Waist</td><td>Hip</td><td>Gender</td></tr><tr><td>ID</td><td>Waist</td><td>Hip</td><td>Gender</td></tr><tr><td>ID</td><td>Waist</td><td>Hip</td><td>Gender</td></tr><tr><td>ID</td><td>Waist</td><td>Hip</td><td>Gender</td></tr><tr><td>ID</td><td>Waist</td><td>Hip</td><td>Gender</td></tr><tr><td>ID</td><td>Waist</td><td>Hip</td><td>Gender</td></tr><tr><td>ID</td><td>Waist</td><td>Hip</td><td>Gender</td></tr><tr><td>ID</td><td>Waist</td><td>Hip</td><td>Gender</td></tr><tr><td>ID</td><td>Waist</td><td>Hip</td><td>Gender</td></tr><tr><td>ID</td><td>Waist</td><td>Hip</td><td>Gender</td></tr><tr><td>ID</td><td>Waist</td><td>Hip</td><td>Gender</td></tr><tr><td>ID</td><td>Waist</td><td>Hip</td><td>Gender</td></tr></table>"
      ],
      "text/plain": [
       "<IPython.core.display.HTML object>"
      ]
     },
     "metadata": {},
     "output_type": "display_data"
    }
   ],
   "source": [
    "# Goal: pretty print the rows as an HTML table\n",
    "\n",
    "# Note: this works, but we can do this much better with pandas\n",
    "html_table = '<table><tr><th>'\n",
    "html_table += \"</th><th>\".join(rows[0])\n",
    "html_table += '</th></tr>'\n",
    "for row in rows[1:]:\n",
    "    html_table += \"<tr><td>\"\n",
    "    html_table += \"</td><td>\".join(str(col) for col in row)\n",
    "    html_table += \"</td></tr>\"\n",
    "html_table += \"</table>\"\n",
    "\n",
    "from IPython.display import HTML, display\n",
    "display(HTML(html_table))"
   ]
  },
  {
   "cell_type": "code",
   "execution_count": null,
   "metadata": {},
   "outputs": [],
   "source": []
  }
 ],
 "metadata": {
  "kernelspec": {
   "display_name": "Python 3",
   "language": "python",
   "name": "python3"
  },
  "language_info": {
   "codemirror_mode": {
    "name": "ipython",
    "version": 3
   },
   "file_extension": ".py",
   "mimetype": "text/x-python",
   "name": "python",
   "nbconvert_exporter": "python",
   "pygments_lexer": "ipython3",
   "version": "3.6.5"
  }
 },
 "nbformat": 4,
 "nbformat_minor": 2
}
